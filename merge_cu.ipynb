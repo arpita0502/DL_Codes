{
  "nbformat": 4,
  "nbformat_minor": 0,
  "metadata": {
    "colab": {
      "provenance": [],
      "gpuType": "T4"
    },
    "kernelspec": {
      "name": "python3",
      "display_name": "Python 3"
    },
    "language_info": {
      "name": "python"
    },
    "accelerator": "GPU"
  },
  "cells": [
    {
      "cell_type": "code",
      "execution_count": 34,
      "metadata": {
        "colab": {
          "base_uri": "https://localhost:8080/"
        },
        "id": "f0_5fNcW-GM0",
        "outputId": "2f2e27d4-d42a-4ee5-86a4-71d2e8d46632"
      },
      "outputs": [
        {
          "output_type": "stream",
          "name": "stdout",
          "text": [
            "Collecting git+https://github.com/afnan47/cuda.git\n",
            "  Cloning https://github.com/afnan47/cuda.git to /tmp/pip-req-build-pzi77mbq\n",
            "  Running command git clone --filter=blob:none --quiet https://github.com/afnan47/cuda.git /tmp/pip-req-build-pzi77mbq\n",
            "  Resolved https://github.com/afnan47/cuda.git to commit aac710a35f52bb78ab34d2e52517237941399eff\n",
            "  Preparing metadata (setup.py) ... \u001b[?25l\u001b[?25hdone\n",
            "The nvcc_plugin extension is already loaded. To reload it, use:\n",
            "  %reload_ext nvcc_plugin\n"
          ]
        }
      ],
      "source": [
        "# Set up CUDA\n",
        "#First Change runtime to GPU and run this cell\n",
        "!pip install git+https://github.com/afnan47/cuda.git\n",
        "%load_ext nvcc_plugin"
      ]
    },
    {
      "cell_type": "code",
      "source": [
        " %%writefile merge_sort.cu\n",
        "#include <iostream>\n",
        "#include <vector>\n",
        "#include <chrono>\n",
        "#include <algorithm> // for min function\n",
        "\n",
        "using namespace std;\n",
        "\n",
        "// Kernel to merge two sorted halves\n",
        "__global__ void kernel_merge(int* arr, int* temp, int* subarray_sizes, int array_size) {\n",
        "    int idx = blockIdx.x * blockDim.x + threadIdx.x; // calculating global thread id\n",
        "    int left_start = idx * 2 * (*subarray_sizes);\n",
        "\n",
        "    if (left_start < array_size) {\n",
        "        int mid = min(left_start + (*subarray_sizes) - 1, array_size - 1);\n",
        "        int right_end = min(left_start + 2 * (*subarray_sizes) - 1, array_size - 1);\n",
        "        int i = left_start;\n",
        "        int j = mid + 1;\n",
        "        int k = left_start;\n",
        "\n",
        "        // Merge process\n",
        "        while (i <= mid && j <= right_end) {\n",
        "            if (arr[i] <= arr[j]) {\n",
        "                temp[k] = arr[i];\n",
        "                i++;\n",
        "            } else {\n",
        "                temp[k] = arr[j];\n",
        "                j++;\n",
        "            }\n",
        "            k++;\n",
        "        }\n",
        "        while (i <= mid) {\n",
        "            temp[k] = arr[i];\n",
        "            i++;\n",
        "            k++;\n",
        "        }\n",
        "        while (j <= right_end) {\n",
        "            temp[k] = arr[j];\n",
        "            j++;\n",
        "            k++;\n",
        "        }\n",
        "\n",
        "        // Copy the sorted subarray back to the original array\n",
        "        for (int t = left_start; t <= right_end; t++) {\n",
        "            arr[t] = temp[t];\n",
        "        }\n",
        "    }\n",
        "}\n",
        "\n",
        "void merge_sort(vector<int>& arr) {\n",
        "    int array_size = arr.size();\n",
        "    int* d_arr;\n",
        "    int* d_temp;\n",
        "    int* d_subarray_size; // Holds the subarray size for each step\n",
        "\n",
        "    // Allocate memory on the GPU\n",
        "    cudaMalloc(&d_arr, array_size * sizeof(int));\n",
        "    cudaMalloc(&d_temp, array_size * sizeof(int));\n",
        "    cudaMalloc(&d_subarray_size, sizeof(int)); // Holds the subarray size for each step\n",
        "\n",
        "    cudaMemcpy(d_arr, arr.data(), array_size * sizeof(int), cudaMemcpyHostToDevice);\n",
        "\n",
        "    int blockSize = 256; // Threads per block\n",
        "    int gridSize; // Number of blocks in the grid, depending on the subarray size\n",
        "\n",
        "    // Start with width of 1, then double each iteration\n",
        "    int width = 1;\n",
        "\n",
        "    while (width < array_size) {\n",
        "        cudaMemcpy(d_subarray_size, &width, sizeof(int), cudaMemcpyHostToDevice);\n",
        "\n",
        "        gridSize = (array_size / (2 * width)) + 1;\n",
        "\n",
        "        kernel_merge<<<gridSize, blockSize>>>(d_arr, d_temp, d_subarray_size, array_size);\n",
        "\n",
        "        cudaDeviceSynchronize(); // Ensure all threads finish before the next step\n",
        "\n",
        "        // Double the subarray width for the next iteration\n",
        "        width *= 2;\n",
        "    }\n",
        "\n",
        "    // Copy the sorted array back to the host\n",
        "    cudaMemcpy(arr.data(), d_arr, array_size * sizeof(int), cudaMemcpyDeviceToHost);\n",
        "\n",
        "    // Free GPU memory\n",
        "    cudaFree(d_arr);\n",
        "    cudaFree(d_temp);\n",
        "    cudaFree(d_subarray_size);\n",
        "}\n",
        "\n",
        "int main() {\n",
        "    vector<int> arr = {6, 5, 4, 1, 7, 9, 8, 3, 2};\n",
        "    double start, end;\n",
        "\n",
        "    start = chrono::duration_cast<chrono::milliseconds>(chrono::system_clock::now().time_since_epoch()).count();\n",
        "    merge_sort(arr);\n",
        "    end = chrono::duration_cast<chrono::milliseconds>(chrono::system_clock::now().time_since_epoch()).count();\n",
        "\n",
        "    cout << \"Parallel merge sort time: \" << end - start << \" milliseconds\" << endl;\n",
        "    cout << \"Sorted array: \";\n",
        "    for (int num : arr) {\n",
        "        cout << num << \" \";\n",
        "    }\n",
        "    cout << endl;\n",
        "\n",
        "    return 0;\n",
        "}\n"
      ],
      "metadata": {
        "colab": {
          "base_uri": "https://localhost:8080/"
        },
        "id": "OZhe_6Y1-gyv",
        "outputId": "851e2bf2-3b95-4ebd-ec1a-ab023e3b6115"
      },
      "execution_count": 35,
      "outputs": [
        {
          "output_type": "stream",
          "name": "stdout",
          "text": [
            "Overwriting merge_sort.cu\n"
          ]
        }
      ]
    },
    {
      "cell_type": "code",
      "source": [
        "!nvcc merge_sort.cu -o merge_sort"
      ],
      "metadata": {
        "id": "mU4Zr9Pm_F_7"
      },
      "execution_count": 36,
      "outputs": []
    },
    {
      "cell_type": "code",
      "source": [
        "!./merge_sort"
      ],
      "metadata": {
        "colab": {
          "base_uri": "https://localhost:8080/"
        },
        "id": "tmdLmM3q_hHd",
        "outputId": "898f27ca-f04d-49c1-972f-0ab6e7d5b7a9"
      },
      "execution_count": 37,
      "outputs": [
        {
          "output_type": "stream",
          "name": "stdout",
          "text": [
            "Parallel merge sort time: 255 milliseconds\n",
            "Sorted array: 1 2 3 4 5 6 7 8 9 \n"
          ]
        }
      ]
    }
  ]
}