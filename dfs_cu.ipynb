{
  "nbformat": 4,
  "nbformat_minor": 0,
  "metadata": {
    "colab": {
      "provenance": [],
      "gpuType": "T4"
    },
    "kernelspec": {
      "name": "python3",
      "display_name": "Python 3"
    },
    "language_info": {
      "name": "python"
    },
    "accelerator": "GPU"
  },
  "cells": [
    {
      "cell_type": "code",
      "execution_count": 15,
      "metadata": {
        "colab": {
          "base_uri": "https://localhost:8080/"
        },
        "id": "f0_5fNcW-GM0",
        "outputId": "4f735912-495a-4dae-9d47-647d83372db4"
      },
      "outputs": [
        {
          "output_type": "stream",
          "name": "stdout",
          "text": [
            "Collecting git+https://github.com/afnan47/cuda.git\n",
            "  Cloning https://github.com/afnan47/cuda.git to /tmp/pip-req-build-un6vf_65\n",
            "  Running command git clone --filter=blob:none --quiet https://github.com/afnan47/cuda.git /tmp/pip-req-build-un6vf_65\n",
            "  Resolved https://github.com/afnan47/cuda.git to commit aac710a35f52bb78ab34d2e52517237941399eff\n",
            "  Preparing metadata (setup.py) ... \u001b[?25l\u001b[?25hdone\n",
            "The nvcc_plugin extension is already loaded. To reload it, use:\n",
            "  %reload_ext nvcc_plugin\n"
          ]
        }
      ],
      "source": [
        "# Set up CUDA\n",
        "#First Change runtime to GPU and run this cell\n",
        "!pip install git+https://github.com/afnan47/cuda.git\n",
        "%load_ext nvcc_plugin"
      ]
    },
    {
      "cell_type": "code",
      "source": [
        "%%writefile depthfirst.cu\n",
        " #include <iostream>\n",
        " #include <vector>\n",
        " using namespace std;\n",
        " const int MAXN = 1e5;\n",
        " vector<int> adj[MAXN+5]; // adjacency list\n",
        " bool visited[MAXN+5]; // mark visited nodes\n",
        " void dfs(int node) {\n",
        " visited[node] = true;\n",
        " cout << node << \" \"; // Print the visited node here\n",
        " for (int i = 0; i < adj[node].size(); i++) {\n",
        " int next_node = adj[node][i];\n",
        " if (!visited[next_node]) {\n",
        " dfs(next_node);\n",
        " }\n",
        " }\n",
        " }\n",
        " int main() {\n",
        " cout << \"Please enter nodes and edges: \";\n",
        " int n, m; // number of nodes and edges\n",
        " cin >> n >> m;\n",
        " for (int i = 1; i <= m; i++) {\n",
        " int u, v; // edge between u and v\n",
        " cin >> u >> v;\n",
        "adj[u].push_back(v);\n",
        " adj[v].push_back(u);\n",
        " }\n",
        " int start_node; // start node of DFS\n",
        " cout << \"Enter the start node for DFS: \";\n",
        " cin >> start_node;\n",
        " dfs(start_node);\n",
        " cout << endl; // Print a newline after DFS traversal\n",
        " return 0;\n",
        " }"
      ],
      "metadata": {
        "colab": {
          "base_uri": "https://localhost:8080/"
        },
        "id": "OZhe_6Y1-gyv",
        "outputId": "73798eea-f439-42b7-e451-2f0f2057cb85"
      },
      "execution_count": 19,
      "outputs": [
        {
          "output_type": "stream",
          "name": "stdout",
          "text": [
            "Overwriting depthfirst.cu\n"
          ]
        }
      ]
    },
    {
      "cell_type": "code",
      "source": [
        "!nvcc depthfirst.cu -o depthfirst"
      ],
      "metadata": {
        "id": "mU4Zr9Pm_F_7"
      },
      "execution_count": 20,
      "outputs": []
    },
    {
      "cell_type": "code",
      "source": [
        "!./depthfirst"
      ],
      "metadata": {
        "colab": {
          "base_uri": "https://localhost:8080/"
        },
        "id": "tmdLmM3q_hHd",
        "outputId": "5688344c-f2b9-4312-c51e-a64b0755cadd"
      },
      "execution_count": 21,
      "outputs": [
        {
          "output_type": "stream",
          "name": "stdout",
          "text": [
            "Please enter nodes and edges: 5 4\n",
            "1 2\n",
            "1 3\n",
            "2 4\n",
            "3 5\n",
            "Enter the start node for DFS: 1\n",
            "1 2 4 3 5 \n"
          ]
        }
      ]
    }
  ]
}