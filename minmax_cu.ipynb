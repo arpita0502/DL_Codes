{
  "nbformat": 4,
  "nbformat_minor": 0,
  "metadata": {
    "colab": {
      "provenance": [],
      "gpuType": "T4"
    },
    "kernelspec": {
      "name": "python3",
      "display_name": "Python 3"
    },
    "language_info": {
      "name": "python"
    },
    "accelerator": "GPU"
  },
  "cells": [
    {
      "cell_type": "code",
      "execution_count": 38,
      "metadata": {
        "colab": {
          "base_uri": "https://localhost:8080/"
        },
        "id": "f0_5fNcW-GM0",
        "outputId": "7495bf67-0ca2-4c0d-c24c-e68306fac15b"
      },
      "outputs": [
        {
          "output_type": "stream",
          "name": "stdout",
          "text": [
            "Collecting git+https://github.com/afnan47/cuda.git\n",
            "  Cloning https://github.com/afnan47/cuda.git to /tmp/pip-req-build-o18c_cuq\n",
            "  Running command git clone --filter=blob:none --quiet https://github.com/afnan47/cuda.git /tmp/pip-req-build-o18c_cuq\n",
            "  Resolved https://github.com/afnan47/cuda.git to commit aac710a35f52bb78ab34d2e52517237941399eff\n",
            "  Preparing metadata (setup.py) ... \u001b[?25l\u001b[?25hdone\n",
            "The nvcc_plugin extension is already loaded. To reload it, use:\n",
            "  %reload_ext nvcc_plugin\n"
          ]
        }
      ],
      "source": [
        "# Set up CUDA\n",
        "#First Change runtime to GPU and run this cell\n",
        "!pip install git+https://github.com/afnan47/cuda.git\n",
        "%load_ext nvcc_plugin"
      ]
    },
    {
      "cell_type": "code",
      "source": [
        "  %%writefile sum.cu\n",
        " #include <iostream>\n",
        " #include <vector>\n",
        " #include <climits>\n",
        " __global__ void min_reduction_kernel(int* arr, int size, int* result) {\n",
        " int tid = blockIdx.x * blockDim.x + threadIdx.x;\n",
        " if (tid < size) {\n",
        " atomicMin(result, arr[tid]);\n",
        " }\n",
        " }\n",
        "__global__ void max_reduction_kernel(int* arr, int size, int* result) {\n",
        " int tid = blockIdx.x * blockDim.x + threadIdx.x;\n",
        " if (tid < size) {\n",
        " atomicMax(result, arr[tid]);\n",
        " }\n",
        " }\n",
        " __global__ void sum_reduction_kernel(int* arr, int size, int* result) {\n",
        " int tid = blockIdx.x * blockDim.x + threadIdx.x;\n",
        " if (tid < size) {\n",
        " atomicAdd(result, arr[tid]);\n",
        " }\n",
        " }\n",
        " __global__ void average_reduction_kernel(int* arr, int size, int* sum) {\n",
        " int tid = blockIdx.x * blockDim.x + threadIdx.x;\n",
        " if (tid < size) {\n",
        " atomicAdd(sum, arr[tid]);\n",
        " }\n",
        " }\n",
        " int main() {\n",
        " int size;\n",
        " std::cout << \"Enter the size of the array: \";\n",
        " std::cin >> size;\n",
        " std::vector<int> arr(size);\n",
        " for (int i = 0; i < size; ++i) {\n",
        " std::cout << \"Enter element \" << i << \": \";\n",
        " std::cin >> arr[i];\n",
        " }\n",
        " int* d_arr;\n",
        " int* d_result;\n",
        " int result_min = INT_MAX;\n",
        " int result_max = INT_MIN;\n",
        " int result_sum = 0;\n",
        " // Allocate memory on the device\n",
        " cudaMalloc(&d_arr, size * sizeof(int));\n",
        " cudaMalloc(&d_result, sizeof(int));\n",
        " // Copy data from host to device\n",
        " cudaMemcpy(d_arr, arr.data(), size * sizeof(int),\n",
        " cudaMemcpyHostToDevice);\n",
        "cudaMemcpy(d_result, &result_min, sizeof(int), cudaMemcpyHostToDevice);\n",
        " // Perform min reduction\n",
        " min_reduction_kernel<<<(size + 255) / 256, 256>>>(d_arr, size,\n",
        " d_result);\n",
        " cudaMemcpy(&result_min, d_result, sizeof(int), cudaMemcpyDeviceToHost);\n",
        " std::cout << \"Minimum value: \" << result_min << std::endl;\n",
        " // Perform max reduction\n",
        " cudaMemcpy(d_result, &result_max, sizeof(int), cudaMemcpyHostToDevice);\n",
        " max_reduction_kernel<<<(size + 255) / 256, 256>>>(d_arr, size,\n",
        " d_result);\n",
        " cudaMemcpy(&result_max, d_result, sizeof(int), cudaMemcpyDeviceToHost);\n",
        " std::cout << \"Maximum value: \" << result_max << std::endl;\n",
        " // Perform sum reduction\n",
        " cudaMemcpy(d_result, &result_sum, sizeof(int), cudaMemcpyHostToDevice);\n",
        " sum_reduction_kernel<<<(size + 255) / 256, 256>>>(d_arr, size,\n",
        " d_result);\n",
        " cudaMemcpy(&result_sum, d_result, sizeof(int), cudaMemcpyDeviceToHost);\n",
        " std::cout << \"Sum: \" << result_sum << std::endl;\n",
        " // Perform average reduction on CPU side\n",
        " double average = static_cast<double>(result_sum) / size;\n",
        " std::cout << \"Average: \" << average << std::endl;\n",
        " // Free device memory\n",
        " cudaFree(d_arr);\n",
        " cudaFree(d_result);\n",
        " return 0;\n",
        " }"
      ],
      "metadata": {
        "colab": {
          "base_uri": "https://localhost:8080/"
        },
        "id": "OZhe_6Y1-gyv",
        "outputId": "27f167f3-ad1b-4ca2-80ee-5b6ef742e7b1"
      },
      "execution_count": 39,
      "outputs": [
        {
          "output_type": "stream",
          "name": "stdout",
          "text": [
            "Writing sum.cu\n"
          ]
        }
      ]
    },
    {
      "cell_type": "code",
      "source": [
        "!nvcc sum.cu -o sum"
      ],
      "metadata": {
        "id": "mU4Zr9Pm_F_7"
      },
      "execution_count": 40,
      "outputs": []
    },
    {
      "cell_type": "code",
      "source": [
        "!./sum"
      ],
      "metadata": {
        "colab": {
          "base_uri": "https://localhost:8080/"
        },
        "id": "tmdLmM3q_hHd",
        "outputId": "3adde252-eda9-4634-b384-c0676451ccca"
      },
      "execution_count": 41,
      "outputs": [
        {
          "output_type": "stream",
          "name": "stdout",
          "text": [
            "Enter the size of the array: 5\n",
            "Enter element 0: 1\n",
            "Enter element 1: 6\n",
            "Enter element 2: 4\n",
            "Enter element 3: 3\n",
            "Enter element 4: 9\n",
            "Minimum value: 1\n",
            "Maximum value: 9\n",
            "Sum: 23\n",
            "Average: 4.6\n"
          ]
        }
      ]
    }
  ]
}