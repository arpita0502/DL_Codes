{
  "nbformat": 4,
  "nbformat_minor": 0,
  "metadata": {
    "colab": {
      "provenance": [],
      "gpuType": "T4"
    },
    "kernelspec": {
      "name": "python3",
      "display_name": "Python 3"
    },
    "language_info": {
      "name": "python"
    },
    "accelerator": "GPU"
  },
  "cells": [
    {
      "cell_type": "code",
      "execution_count": 1,
      "metadata": {
        "colab": {
          "base_uri": "https://localhost:8080/"
        },
        "id": "f0_5fNcW-GM0",
        "outputId": "074d4726-0e2d-4f11-89ed-cdab4177e6b3"
      },
      "outputs": [
        {
          "output_type": "stream",
          "name": "stdout",
          "text": [
            "Collecting git+https://github.com/afnan47/cuda.git\n",
            "  Cloning https://github.com/afnan47/cuda.git to /tmp/pip-req-build-bb0mup3g\n",
            "  Running command git clone --filter=blob:none --quiet https://github.com/afnan47/cuda.git /tmp/pip-req-build-bb0mup3g\n",
            "  Resolved https://github.com/afnan47/cuda.git to commit aac710a35f52bb78ab34d2e52517237941399eff\n",
            "  Preparing metadata (setup.py) ... \u001b[?25l\u001b[?25hdone\n",
            "Building wheels for collected packages: NVCCPlugin\n",
            "  Building wheel for NVCCPlugin (setup.py) ... \u001b[?25l\u001b[?25hdone\n",
            "  Created wheel for NVCCPlugin: filename=NVCCPlugin-0.0.2-py3-none-any.whl size=4289 sha256=3b8ca96bc16298f544cabd62a592d56686b10b16f7f124344d06e226149bbbd7\n",
            "  Stored in directory: /tmp/pip-ephem-wheel-cache-xm35nn_e/wheels/aa/f3/44/e10c1d226ec561d971fcd4b0463f6bff08602afa928a3e7bc7\n",
            "Successfully built NVCCPlugin\n",
            "Installing collected packages: NVCCPlugin\n",
            "Successfully installed NVCCPlugin-0.0.2\n",
            "created output directory at /content/src\n",
            "Out bin /content/result.out\n"
          ]
        }
      ],
      "source": [
        "# Set up CUDA\n",
        "#First Change runtime to GPU and run this cell\n",
        "!pip install git+https://github.com/afnan47/cuda.git\n",
        "%load_ext nvcc_plugin"
      ]
    },
    {
      "cell_type": "code",
      "source": [
        "%%writefile breadthfirst.cu\n",
        "#include <iostream>\n",
        "#include <queue>\n",
        "#include <vector>\n",
        "#include <omp.h>\n",
        "using namespace std;\n",
        "\n",
        "int main() {\n",
        "    int num_vertices, num_edges, source;\n",
        "    cout << \"Enter number of vertices, edges, and source node: \";\n",
        "    cin >> num_vertices >> num_edges >> source;\n",
        "    // Input validation\n",
        "    if (source < 1 || source > num_vertices) {\n",
        "        cout << \"Invalid source node!\" << endl;\n",
        "        return 1;\n",
        "    }\n",
        "\n",
        "    vector<vector<int>> adj_list(num_vertices + 1);\n",
        "    for (int i = 0; i < num_edges; i++) {\n",
        "        int u, v;\n",
        "        cin >> u >> v;\n",
        "        // Input validation for edges\n",
        "        if (u < 1 || u > num_vertices || v < 1 || v > num_vertices) {\n",
        "            cout << \"Invalid edge: \" << u << \" \" << v << endl;\n",
        "            return 1;\n",
        "        }\n",
        "        adj_list[u].push_back(v);\n",
        "        adj_list[v].push_back(u);\n",
        "    }\n",
        "\n",
        "    queue<int> q;\n",
        "    vector<bool> visited(num_vertices + 1, false);\n",
        "    q.push(source);\n",
        "    visited[source] = true;\n",
        "\n",
        "    while (!q.empty()) {\n",
        "        int curr_vertex = q.front();\n",
        "        q.pop();\n",
        "        cout << curr_vertex << \" \";\n",
        "        // Sequential loop for neighbors\n",
        "        for (int i = 0; i < adj_list[curr_vertex].size(); i++) {\n",
        "            int neighbour = adj_list[curr_vertex][i];\n",
        "            if (!visited[neighbour]) {\n",
        "                visited[neighbour] = true;\n",
        "                q.push(neighbour);\n",
        "            }\n",
        "        }\n",
        "    }\n",
        "    cout << endl;\n",
        "    return 0;\n",
        "}"
      ],
      "metadata": {
        "colab": {
          "base_uri": "https://localhost:8080/"
        },
        "id": "OZhe_6Y1-gyv",
        "outputId": "954e0f03-33a3-478a-cca6-4ddcfdb150ca"
      },
      "execution_count": 4,
      "outputs": [
        {
          "output_type": "stream",
          "name": "stdout",
          "text": [
            "Writing breadthfirst.cu\n"
          ]
        }
      ]
    },
    {
      "cell_type": "code",
      "source": [
        "!nvcc breadthfirst.cu -o breadthfirst"
      ],
      "metadata": {
        "id": "mU4Zr9Pm_F_7"
      },
      "execution_count": 5,
      "outputs": []
    },
    {
      "cell_type": "code",
      "source": [
        "!./breadthfirst"
      ],
      "metadata": {
        "colab": {
          "base_uri": "https://localhost:8080/"
        },
        "id": "tmdLmM3q_hHd",
        "outputId": "51f50353-da7f-46a9-bda2-4106cd0181de"
      },
      "execution_count": 6,
      "outputs": [
        {
          "output_type": "stream",
          "name": "stdout",
          "text": [
            "Enter number of vertices, edges, and source node: 5 4 1\n",
            "1 2\n",
            "1 3\n",
            "2 4\n",
            "3 5\n",
            "1 2 3 4 5 \n"
          ]
        }
      ]
    }
  ]
}