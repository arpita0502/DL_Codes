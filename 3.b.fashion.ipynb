{
 "cells": [
  {
   "cell_type": "code",
   "execution_count": 1,
   "metadata": {
    "id": "oiAnai8uyoxn"
   },
   "outputs": [],
   "source": [
    "import numpy as np\n",
    "import matplotlib.pyplot as plt\n",
    "from tensorflow.keras.datasets import fashion_mnist\n",
    "from tensorflow.keras.models import Sequential\n",
    "from tensorflow.keras.layers import Conv2D, MaxPooling2D, Flatten, Dense\n",
    "from tensorflow.keras.utils import to_categorical"
   ]
  },
  {
   "cell_type": "code",
   "execution_count": 2,
   "metadata": {
    "colab": {
     "base_uri": "https://localhost:8080/"
    },
    "id": "hb9LYUR0yy2J",
    "outputId": "0859c131-1b43-4395-9a58-563fdb3f8dbf"
   },
   "outputs": [],
   "source": [
    "# Load the Fashion MNIST dataset\n",
    "(train_images, train_labels), (test_images, test_labels) = fashion_mnist.load_data()"
   ]
  },
  {
   "cell_type": "code",
   "execution_count": 3,
   "metadata": {
    "id": "fDYcpv7Ay3dt"
   },
   "outputs": [],
   "source": [
    "# Preprocess the data\n",
    "train_images = train_images.reshape((train_images.shape[0], 28, 28, 1)).astype('float32') / 255\n",
    "test_images = test_images.reshape((test_images.shape[0], 28, 28, 1)).astype('float32') / 255\n",
    "train_labels = to_categorical(train_labels)\n",
    "test_labels = to_categorical(test_labels)"
   ]
  },
  {
   "cell_type": "code",
   "execution_count": 4,
   "metadata": {
    "id": "azFfEgaOy7aO"
   },
   "outputs": [],
   "source": [
    "# Define the CNN model\n",
    "model = Sequential([\n",
    "    Conv2D(32, (3, 3), activation='relu', input_shape=(28, 28, 1)),\n",
    "    MaxPooling2D((2, 2)),\n",
    "    Conv2D(64, (3, 3), activation='relu'),\n",
    "    MaxPooling2D((2, 2)),\n",
    "    Conv2D(64, (3, 3), activation='relu'),\n",
    "    Flatten(),\n",
    "    Dense(64, activation='relu'),\n",
    "    Dense(10, activation='softmax')\n",
    "])\n"
   ]
  },
  {
   "cell_type": "code",
   "execution_count": 5,
   "metadata": {
    "id": "Y9aHaI4BzMWJ"
   },
   "outputs": [],
   "source": [
    "# Compile the model\n",
    "model.compile(optimizer='adam',\n",
    "              loss='categorical_crossentropy',\n",
    "              metrics=['accuracy'])"
   ]
  },
  {
   "cell_type": "code",
   "execution_count": 6,
   "metadata": {
    "colab": {
     "base_uri": "https://localhost:8080/"
    },
    "id": "vzGyw8OLzBLx",
    "outputId": "fa1bc6ab-5df7-4b59-be4a-c84fe57c70c7"
   },
   "outputs": [
    {
     "name": "stdout",
     "output_type": "stream",
     "text": [
      "Epoch 1/15\n",
      "750/750 [==============================] - 101s 124ms/step - loss: 0.5873 - accuracy: 0.7850 - val_loss: 0.4167 - val_accuracy: 0.8507\n",
      "Epoch 2/15\n",
      "750/750 [==============================] - 120s 160ms/step - loss: 0.3635 - accuracy: 0.8680 - val_loss: 0.3318 - val_accuracy: 0.8803\n",
      "Epoch 3/15\n",
      "750/750 [==============================] - 101s 134ms/step - loss: 0.3084 - accuracy: 0.8889 - val_loss: 0.2993 - val_accuracy: 0.8894\n",
      "Epoch 4/15\n",
      "750/750 [==============================] - 95s 127ms/step - loss: 0.2764 - accuracy: 0.8991 - val_loss: 0.2940 - val_accuracy: 0.8951\n",
      "Epoch 5/15\n",
      "750/750 [==============================] - 86s 115ms/step - loss: 0.2525 - accuracy: 0.9079 - val_loss: 0.2693 - val_accuracy: 0.9025\n",
      "Epoch 6/15\n",
      "750/750 [==============================] - 102s 135ms/step - loss: 0.2344 - accuracy: 0.9153 - val_loss: 0.2668 - val_accuracy: 0.9049\n",
      "Epoch 7/15\n",
      "750/750 [==============================] - 91s 121ms/step - loss: 0.2151 - accuracy: 0.9216 - val_loss: 0.2876 - val_accuracy: 0.8973\n",
      "Epoch 8/15\n",
      "750/750 [==============================] - 111s 149ms/step - loss: 0.2011 - accuracy: 0.9264 - val_loss: 0.2551 - val_accuracy: 0.9103\n",
      "Epoch 9/15\n",
      "750/750 [==============================] - 102s 136ms/step - loss: 0.1849 - accuracy: 0.9315 - val_loss: 0.2546 - val_accuracy: 0.9101\n",
      "Epoch 10/15\n",
      "750/750 [==============================] - 118s 158ms/step - loss: 0.1727 - accuracy: 0.9363 - val_loss: 0.2743 - val_accuracy: 0.9057\n",
      "Epoch 11/15\n",
      "750/750 [==============================] - 98s 130ms/step - loss: 0.1568 - accuracy: 0.9426 - val_loss: 0.2590 - val_accuracy: 0.9120\n",
      "Epoch 12/15\n",
      "750/750 [==============================] - 122s 162ms/step - loss: 0.1454 - accuracy: 0.9461 - val_loss: 0.2802 - val_accuracy: 0.9062\n",
      "Epoch 13/15\n",
      "750/750 [==============================] - 95s 127ms/step - loss: 0.1329 - accuracy: 0.9508 - val_loss: 0.2677 - val_accuracy: 0.9127\n",
      "Epoch 14/15\n",
      "750/750 [==============================] - 109s 145ms/step - loss: 0.1235 - accuracy: 0.9543 - val_loss: 0.2810 - val_accuracy: 0.9096\n",
      "Epoch 15/15\n",
      "750/750 [==============================] - 107s 143ms/step - loss: 0.1115 - accuracy: 0.9592 - val_loss: 0.2950 - val_accuracy: 0.9093\n",
      "Training time:  1558.665999174118\n"
     ]
    }
   ],
   "source": [
    "import time\n",
    "\n",
    "start_time=time.time()\n",
    "\n",
    "# Train the model\n",
    "model.fit(train_images, train_labels, epochs=15, batch_size=64, validation_split=0.2)\n",
    "\n",
    "train_time=time.time()-start_time\n",
    "\n",
    "print(\"Training time: \", train_time)"
   ]
  },
  {
   "cell_type": "code",
   "execution_count": 7,
   "metadata": {
    "colab": {
     "base_uri": "https://localhost:8080/"
    },
    "id": "KCkpgBFEzk0H",
    "outputId": "1c80b2fa-f539-4ec8-daaf-ba12e723a821"
   },
   "outputs": [
    {
     "name": "stdout",
     "output_type": "stream",
     "text": [
      "313/313 [==============================] - 17s 55ms/step - loss: 0.3128 - accuracy: 0.9061\n"
     ]
    }
   ],
   "source": [
    "loss, acc = model.evaluate(test_images, test_labels)"
   ]
  },
  {
   "cell_type": "code",
   "execution_count": 8,
   "metadata": {
    "colab": {
     "base_uri": "https://localhost:8080/",
     "height": 279
    },
    "id": "n4rN4HLz8_83",
    "outputId": "eb3627f5-1832-44b4-b062-537bb727d1d0"
   },
   "outputs": [
    {
     "name": "stdout",
     "output_type": "stream",
     "text": [
      "1/1 [==============================] - 2s 2s/step\n"
     ]
    },
    {
     "data": {
      "image/png": "[encoded data removed]",
      "text/plain": [
       "<Figure size 1000x600 with 5 Axes>"
      ]
     },
     "metadata": {},
     "output_type": "display_data"
    }
   ],
   "source": [
    "# Select random images from the test set\n",
    "num_samples = 5\n",
    "random_indices = np.random.choice(len(test_images), num_samples, replace=False)\n",
    "sample_images = test_images[random_indices]\n",
    "sample_labels = test_labels[random_indices]\n",
    "\n",
    "# Make predictions on the sample images\n",
    "predictions = model.predict(sample_images)\n",
    "predicted_labels = np.argmax(predictions, axis=1)\n",
    "\n",
    "# Define class labels\n",
    "class_labels = ['T-shirt/top', 'Trouser', 'Pullover', 'Dress', 'Coat',\n",
    "                'Sandal', 'Shirt', 'Sneaker', 'Bag', 'Ankle boot']\n",
    "\n",
    "# Show images with their predicted and true labels\n",
    "plt.figure(figsize=(10, 6))\n",
    "for i in range(num_samples):\n",
    "    plt.subplot(1, num_samples, i + 1)\n",
    "    plt.imshow(sample_images[i].reshape(28, 28), cmap='gray')\n",
    "    plt.title(f\"True: {class_labels[np.argmax(sample_labels[i])]} \\nPredicted: {class_labels[predicted_labels[i]]}\")\n",
    "    plt.axis('off')\n",
    "plt.tight_layout()\n",
    "plt.show()"
   ]
  },
  {
   "cell_type": "code",
   "execution_count": 9,
   "metadata": {
    "id": "29AsNts09NqZ"
   },
   "outputs": [],
   "source": [
    "from tensorflow.keras.preprocessing.image import load_img\n",
    "from tensorflow.keras.preprocessing.image import img_to_array\n",
    "import cv2\n",
    "\n",
    "def preprocess_image(image_path):\n",
    "  \"\"\"\n",
    "  Preprocesses a fashion image with black background and white foreground.\n",
    "\n",
    "  Args:\n",
    "      image_path: Path to the image file.\n",
    "\n",
    "  Returns:\n",
    "      A NumPy array representing the preprocessed image.\n",
    "  \"\"\"\n",
    "  # Read the image\n",
    "  image = cv2.imread(image_path)\n",
    "  # Convert BGR (OpenCV default) to RGB (Matplotlib default)\n",
    "  image_rgb = cv2.cvtColor(image, cv2.COLOR_BGR2RGB)\n",
    "  plt.title(\"Original Image\")\n",
    "  # Display the image\n",
    "  plt.imshow(image_rgb)\n",
    "  # plt.axis('off')  # Turn off axis labels\n",
    "  plt.show()\n",
    "\n",
    "\n",
    "  # Load the image from the file path in grayscale mode\n",
    "  img = load_img(image_path, grayscale=True, target_size=(28, 28))\n",
    "  # Convert the image to a NumPy array\n",
    "  img_array = img_to_array(img)\n",
    "  # Invert the grayscale values (black -> white, white -> black)\n",
    "  img_array = 255 - img_array\n",
    "  # Show grayscale image\n",
    "  plt.title(\"Preprocessed Grayscale Image\")\n",
    "  plt.imshow(img_array, cmap='gray')\n",
    "  # Reshape the image array to add a dimension for the color channel (even though it's grayscale)\n",
    "  img_array = img_array.reshape((1, 28, 28, 1))\n",
    "\n",
    "  # Normalize the pixel values to be between 0 and 1\n",
    "  return img_array / 255.0"
   ]
  },
  {
   "cell_type": "code",
   "execution_count": null,
   "metadata": {
    "id": "SLuULX2RDRbn"
   },
   "outputs": [],
   "source": [
    "import tkinter as tk\n",
    "from tkinter import filedialog, messagebox\n",
    "from PIL import ImageTk, Image\n",
    "from tensorflow.keras.preprocessing.image import load_img, img_to_array\n",
    "import numpy as np\n",
    "\n",
    "# Assuming 'model' and 'train_generator' are defined elsewhere in your code\n",
    "\n",
    "def predict_disease(image_path):\n",
    "    try:\n",
    "        x = preprocess_image(image_path)\n",
    "        predictions = model.predict(x)\n",
    "        predicted_label = class_labels[np.argmax(predictions)]\n",
    "        return predicted_label\n",
    "    except Exception as e:\n",
    "        messagebox.showerror(\"Error\", f\"An error occurred during prediction: {str(e)}\")\n",
    "        return \"Unknown\"\n",
    "\n",
    "def select_image():\n",
    "    file_path = filedialog.askopenfilename()\n",
    "    if file_path:\n",
    "        try:\n",
    "            img = Image.open(file_path)\n",
    "            img = img.resize((300, 300), Image.ANTIALIAS)\n",
    "            img = ImageTk.PhotoImage(img)\n",
    "            image_label.config(image=img)\n",
    "            image_label.image = img\n",
    "            predicted_label = predict_disease(file_path)\n",
    "            result_label.config(text=f\"Predicted Label: {predicted_label}\")\n",
    "        except Exception as e:\n",
    "            messagebox.showerror(\"Error\", f\"An error occurred: {str(e)}\")\n",
    "\n",
    "# Creating the main application window\n",
    "root = tk.Tk()\n",
    "root.title(\"Fashion prediction\")\n",
    "\n",
    "# Creating the GUI components\n",
    "select_button = tk.Button(root, text=\"Select Image\", command=select_image)\n",
    "select_button.pack(pady=10)\n",
    "\n",
    "image_label = tk.Label(root)\n",
    "image_label.pack(pady=10)\n",
    "\n",
    "result_label = tk.Label(root, text=\"\")\n",
    "result_label.pack(pady=10)\n",
    "\n",
    "# Running the main event loop\n",
    "root.mainloop()"
   ]
  },
  {
   "cell_type": "code",
   "execution_count": null,
   "metadata": {},
   "outputs": [],
   "source": []
  },
  {
   "cell_type": "code",
   "execution_count": null,
   "metadata": {},
   "outputs": [],
   "source": []
  }
 ],
 "metadata": {
  "colab": {
   "provenance": []
  },
  "kernelspec": {
   "display_name": "Python 3 (ipykernel)",
   "language": "python",
   "name": "python3"
  },
  "language_info": {
   "codemirror_mode": {
    "name": "ipython",
    "version": 3
   },
   "file_extension": ".py",
   "mimetype": "text/x-python",
   "name": "python",
   "nbconvert_exporter": "python",
   "pygments_lexer": "ipython3",
   "version": "3.9.13"
  }
 },
 "nbformat": 4,
 "nbformat_minor": 1
}
